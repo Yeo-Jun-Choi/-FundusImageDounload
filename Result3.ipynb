{
 "cells": [
  {
   "cell_type": "markdown",
   "metadata": {},
   "source": [
    "# Retinal Fundus Image\n",
    "- 총 5개의 Data Set (4.67G)\n",
    "- 파이썬 파일과 동일한 폴더에 다운로드 및 정리\n",
    "  - 데이터 폴더 : 'Train'\n",
    "  - 데이터 관련 CSV파일 : 'Train/Train.tsv'\n",
    "  - 분류 결과 설명 파일 : 'Train/Traininfo.html'\n",
    "- 데이터 이미지 확장자는 jpg, bmp"
   ]
  },
  {
   "cell_type": "code",
   "execution_count": 1,
   "metadata": {},
   "outputs": [],
   "source": [
    "import zipfile\n",
    "import urllib.request\n",
    "import subprocess as sp\n",
    "import os\n",
    "from urllib.error import URLError, HTTPError\n",
    "from PIL import Image\n",
    "import pandas as pd\n",
    "import numpy as np\n",
    "import glob\n",
    "import shutil\n",
    "import csv\n",
    "k = 1"
   ]
  },
  {
   "cell_type": "markdown",
   "metadata": {},
   "source": [
    "## 데이터 다운로드 함수"
   ]
  },
  {
   "cell_type": "code",
   "execution_count": 83,
   "metadata": {},
   "outputs": [],
   "source": [
    "def dounloadUrl(http, saving_name):\n",
    "    try:\n",
    "        urllib.request.urlretrieve(http,saving_name)\n",
    "    except HTTPError:\n",
    "        print(http+\"\\n위 사이트에 문제가 생겨 파일을 찾을 수 없습니다.\")\n",
    "        pass"
   ]
  },
  {
   "cell_type": "markdown",
   "metadata": {},
   "source": [
    "## 압축파일 해제 함수(분할압축파일은 divide = True로 변경)"
   ]
  },
  {
   "cell_type": "code",
   "execution_count": 34,
   "metadata": {},
   "outputs": [],
   "source": [
    "def openzip(filename, fordername, divide=False):\n",
    "    if divide:\n",
    "        name = filename.split('.')\n",
    "        num = name[-1]\n",
    "        num1 = int(num)\n",
    "        fullname = filename\n",
    "        while True :\n",
    "            num1 += 1 \n",
    "            num = num[:len(num)-1]+str(num1)\n",
    "            name[-1] = num\n",
    "            if os.path.isfile('.'.join(name)):\n",
    "                fullname+=\"+{}\".format('.'.join(name))\n",
    "            else:\n",
    "                break\n",
    "        name = name[0]+'.zip'\n",
    "        sp.call(\"copy /b {0} {1}\".format(fullname,name), shell=True)\n",
    "        files = zipfile.ZipFile(name)\n",
    "    else:\n",
    "        try:\n",
    "            files = zipfile.ZipFile(filename)\n",
    "        except FileNotFoundError:\n",
    "            print(filename+\"\\n올바르지 않는 경로입니다..\")\n",
    "            pass\n",
    "        except zipfile.BadZipFile:\n",
    "            print(\"올바르지 않는 압축 파일입니다.\")\n",
    "            pass\n",
    "    files.extractall(fordername)\n",
    "    files.close()"
   ]
  },
  {
   "cell_type": "markdown",
   "metadata": {},
   "source": [
    "## Train 폴더 내 새로운 폴더 생성 함수"
   ]
  },
  {
   "cell_type": "code",
   "execution_count": 85,
   "metadata": {},
   "outputs": [],
   "source": [
    "def direct(path):\n",
    "    try:\n",
    "        os.makedirs(os.path.join(\"Train/{}\").format(path))\n",
    "    except FileExistsError:\n",
    "        pass"
   ]
  },
  {
   "cell_type": "markdown",
   "metadata": {},
   "source": [
    "## 파일 이름 바꾸는 함수"
   ]
  },
  {
   "cell_type": "code",
   "execution_count": 86,
   "metadata": {},
   "outputs": [],
   "source": [
    "def changeName(filename, path, cName, datanum):\n",
    "    os.rename(path+'/'+filename, path+'/'+str(cName)+str(datanum)+'.jpg')"
   ]
  },
  {
   "cell_type": "markdown",
   "metadata": {},
   "source": [
    "## 특정 위치로 파일 복사"
   ]
  },
  {
   "cell_type": "code",
   "execution_count": 87,
   "metadata": {},
   "outputs": [],
   "source": [
    "def copydata(file, data, path, recode):\n",
    "    global k\n",
    "    disease = path.split('/')[-1]\n",
    "    shutil.copy2(file, path)\n",
    "    changeName(data, path, 'data', k)\n",
    "    wr.writerow(['data{}'.format(k),recode[disease],disease])\n",
    "    k+=1"
   ]
  },
  {
   "cell_type": "markdown",
   "metadata": {},
   "source": [
    "## csfau Dataset 처리"
   ]
  },
  {
   "cell_type": "code",
   "execution_count": 88,
   "metadata": {},
   "outputs": [],
   "source": [
    "def csfau_comb(path):\n",
    "    cs_files = list(filter(os.path.isfile,glob.glob(path)))\n",
    "    for i in cs_files:\n",
    "        x = i.split('\\\\')\n",
    "        j = x[-1]\n",
    "        if(\"_dr\" in i):\n",
    "            copydata(i, j, dr, recode)\n",
    "        elif(\"_g\" in i):\n",
    "            copydata(i, j, g, recode)\n",
    "        else:\n",
    "            copydata(i, j, n, recode)\n",
    "\n",
    "def csfau_t_comb(path):\n",
    "    cs_test = list(filter(os.path.isfile, glob.glob(path)))\n",
    "    for i in cs_test:\n",
    "        x = i.split('\\\\')\n",
    "        j = x[-1]\n",
    "        if(\"good\"in i):\n",
    "            copydata(i, j, n, recode)"
   ]
  },
  {
   "cell_type": "markdown",
   "metadata": {},
   "source": [
    "## ACRIMA Dataset 처리"
   ]
  },
  {
   "cell_type": "code",
   "execution_count": 89,
   "metadata": {},
   "outputs": [],
   "source": [
    "def db_comb(path):\n",
    "    db_files = list(filter(os.path.isfile,glob.glob(path)))\n",
    "    for i in db_files:\n",
    "        x = i.split('\\\\')\n",
    "        j = x[-1]\n",
    "        if(\"_g_\" in j):\n",
    "            copydata(i, j, g, recode)\n",
    "        else:\n",
    "            copydata(i, j, n, recode)"
   ]
  },
  {
   "cell_type": "markdown",
   "metadata": {},
   "source": [
    "## yiweichen04 Dataset 처리"
   ]
  },
  {
   "cell_type": "code",
   "execution_count": 90,
   "metadata": {},
   "outputs": [],
   "source": [
    "def Yi_comb(path):\n",
    "    Yi_files = list(filter(os.path.isfile,glob.glob(path)))\n",
    "    if('1_normal' in path):\n",
    "        for i in Yi_files:\n",
    "            x = i.split('\\\\')\n",
    "            j = x[-1]\n",
    "            copydata(i, j, n, recode)\n",
    "            \n",
    "    elif('2_cataract' in path):\n",
    "        for i in Yi_files:\n",
    "            x = i.split(\"\\\\\")\n",
    "            j = x[-1]\n",
    "            copydata(i, j, c, recode)\n",
    "            \n",
    "    elif('2_glaucoma' in path):\n",
    "        for i in Yi_files:\n",
    "            x = i.split(\"\\\\\")\n",
    "            j = x[-1]\n",
    "            copydata(i, j, g, recode)\n",
    "            \n",
    "    elif('3_retina_disease' in path):\n",
    "        for i in Yi_files:\n",
    "            x = i.split(\"\\\\\")\n",
    "            j = x[-1]\n",
    "            copydata(i, j, r, recode)"
   ]
  },
  {
   "cell_type": "markdown",
   "metadata": {},
   "source": [
    "## STARE_save Dataset 처리"
   ]
  },
  {
   "cell_type": "code",
   "execution_count": 91,
   "metadata": {},
   "outputs": [],
   "source": [
    "def STARE_save(data, cName, recode):\n",
    "    global k\n",
    "    data.save(\"Train/{0}/data{1}.bmp\".format(cName,k))\n",
    "    wr.writerow(['data{}'.format(k), recode[cName], cName])\n",
    "    k+=1"
   ]
  },
  {
   "cell_type": "code",
   "execution_count": 92,
   "metadata": {},
   "outputs": [],
   "source": [
    "def STARE_combi(path):\n",
    "    STARE_im = list(filter(os.path.isfile,glob.glob(path)))\n",
    "    filelist = []\n",
    "    file = open(\"STARE/info.txt\")\n",
    "    m = file.readline()\n",
    "    while m:\n",
    "        filelist.append(m)\n",
    "        m = file.readline()\n",
    "    for i in range(len(filelist)):\n",
    "        filelist[i] = filelist[i].split('\\t')\n",
    "    for i in range(len(filelist)):\n",
    "        filelist[i][1] = filelist[i][1].split(\" \")\n",
    "    file.close()\n",
    "    \n",
    "    \n",
    "    num = 0\n",
    "    for i in STARE_im:\n",
    "        x = i.split(\"\\\\\")\n",
    "        j = x[-1]\n",
    "    \n",
    "        if not ('ppm' in i):\n",
    "            continue\n",
    "    \n",
    "        while((filelist[num][0]+\".ppm\") != j):\n",
    "            num+=1\n",
    "            if(len(filelist)==num):\n",
    "                break\n",
    "        im = Image.open(i)\n",
    "        \n",
    "        if((filelist[num][0]+\".ppm\") == j):\n",
    "            if('0' in filelist[num][1]):\n",
    "                STARE_save(im, 'Normal',recode)\n",
    "            if('1' in filelist[num][1]):\n",
    "                STARE_save(im, 'Hollenhorst_Emboli',recode)\n",
    "            if('2' in filelist[num][1]):\n",
    "                STARE_save(im, 'Branch_Retinal_Artery_Occlusion',recode)\n",
    "            if('3' in filelist[num][1]):\n",
    "                STARE_save(im, 'Cilio-Retinal_Artery_Occlusion',recode) \n",
    "            if('4' in filelist[num][1]):\n",
    "                STARE_save(im, 'Branch_Retinal_Vein_Occlusion',recode)\n",
    "            if('5' in filelist[num][1]):\n",
    "                STARE_save(im, 'Central_Retinal_Vein_Occlusion',recode)\n",
    "            if('6' in filelist[num][1]):\n",
    "                STARE_save(im, 'Hemi-Central_Retinal_Vein_Occlusion',recode)\n",
    "            if('7' in filelist[num][1]):\n",
    "                STARE_save(im, 'Background_Diabetic_Retinopathy',recode)\n",
    "            if('8' in filelist[num][1]):\n",
    "                STARE_save(im, 'Proliferative_Diabetic_Retinopathy',recode)\n",
    "            if('9' in filelist[num][1]):\n",
    "                STARE_save(im, 'Arteriosclerotic_Retinopathy',recode)\n",
    "            if('10' in filelist[num][1]):\n",
    "                STARE_save(im, 'Hyperensive_Retinopathy',recode)\n",
    "            if('11' in filelist[num][1]):\n",
    "                STARE_save(im, 'Coats',recode)\n",
    "            if('12' in filelist[num][1]):\n",
    "                STARE_save(im, 'Macroaneurism',recode)\n",
    "            if('13' in filelist[num][1]):\n",
    "                STARE_save(im, 'Choroidal_Neovascularization',recode)\n",
    "        num+=1\n",
    "        im.close()"
   ]
  },
  {
   "cell_type": "code",
   "execution_count": 9,
   "metadata": {},
   "outputs": [],
   "source": [
    "filelist = []\n",
    "file = open(\"STARE/info.txt\")\n",
    "m = file.readline()\n",
    "while m:\n",
    "    filelist.append(m)\n",
    "    m = file.readline()\n",
    "for i in range(len(filelist)):\n",
    "    filelist[i] = filelist[i].split('\\t')\n",
    "for i in range(len(filelist)):\n",
    "    filelist[i][1] = filelist[i][1].split(\" \")\n",
    "file.close()"
   ]
  },
  {
   "cell_type": "markdown",
   "metadata": {},
   "source": [
    "## Messidor-2 Dataset 처리"
   ]
  },
  {
   "cell_type": "code",
   "execution_count": 93,
   "metadata": {},
   "outputs": [],
   "source": [
    "def messi_combi(path):\n",
    "    global k\n",
    "    data = pd.read_csv(\"Messidor-2/dounload-main/messidor_data.csv\")\n",
    "\n",
    "    Messidor = list(filter(os.path.isfile,glob.glob(path)))\n",
    "    num = 0\n",
    "\n",
    "    for i in Messidor:\n",
    "        x = i.split('\\\\')\n",
    "        j = x[-1]\n",
    "        if(data[\"image_id\"][num] == j):\n",
    "            if(data[\"adjudicated_gradable\"][num]==0.0):\n",
    "                num+=1\n",
    "                continue\n",
    "            \n",
    "            if(data[\"adjudicated_dr_grade\"][num]!=0):\n",
    "                copydata(i, j, dr, recode)\n",
    "            else:\n",
    "                copydata(i, j, n, recode)\n",
    "            if(data[\"adjudicated_dme\"][num]==1):\n",
    "                k-=1\n",
    "                copydata(i, j, dme, recode)\n",
    "        num+=1"
   ]
  },
  {
   "cell_type": "code",
   "execution_count": 3,
   "metadata": {},
   "outputs": [
    {
     "data": {
      "text/html": [
       "<div>\n",
       "<style scoped>\n",
       "    .dataframe tbody tr th:only-of-type {\n",
       "        vertical-align: middle;\n",
       "    }\n",
       "\n",
       "    .dataframe tbody tr th {\n",
       "        vertical-align: top;\n",
       "    }\n",
       "\n",
       "    .dataframe thead th {\n",
       "        text-align: right;\n",
       "    }\n",
       "</style>\n",
       "<table border=\"1\" class=\"dataframe\">\n",
       "  <thead>\n",
       "    <tr style=\"text-align: right;\">\n",
       "      <th></th>\n",
       "      <th>image_id</th>\n",
       "      <th>adjudicated_dr_grade</th>\n",
       "      <th>adjudicated_dme</th>\n",
       "      <th>adjudicated_gradable</th>\n",
       "    </tr>\n",
       "  </thead>\n",
       "  <tbody>\n",
       "    <tr>\n",
       "      <th>0</th>\n",
       "      <td>20051020_43808_0100_PP.png</td>\n",
       "      <td>0.0</td>\n",
       "      <td>0.0</td>\n",
       "      <td>1</td>\n",
       "    </tr>\n",
       "    <tr>\n",
       "      <th>1</th>\n",
       "      <td>20051020_43832_0100_PP.png</td>\n",
       "      <td>1.0</td>\n",
       "      <td>0.0</td>\n",
       "      <td>1</td>\n",
       "    </tr>\n",
       "    <tr>\n",
       "      <th>2</th>\n",
       "      <td>20051020_43882_0100_PP.png</td>\n",
       "      <td>1.0</td>\n",
       "      <td>0.0</td>\n",
       "      <td>1</td>\n",
       "    </tr>\n",
       "    <tr>\n",
       "      <th>3</th>\n",
       "      <td>20051020_43906_0100_PP.png</td>\n",
       "      <td>2.0</td>\n",
       "      <td>1.0</td>\n",
       "      <td>1</td>\n",
       "    </tr>\n",
       "    <tr>\n",
       "      <th>4</th>\n",
       "      <td>20051020_44261_0100_PP.png</td>\n",
       "      <td>0.0</td>\n",
       "      <td>0.0</td>\n",
       "      <td>1</td>\n",
       "    </tr>\n",
       "    <tr>\n",
       "      <th>...</th>\n",
       "      <td>...</td>\n",
       "      <td>...</td>\n",
       "      <td>...</td>\n",
       "      <td>...</td>\n",
       "    </tr>\n",
       "    <tr>\n",
       "      <th>1743</th>\n",
       "      <td>IM004806.jpg</td>\n",
       "      <td>0.0</td>\n",
       "      <td>0.0</td>\n",
       "      <td>1</td>\n",
       "    </tr>\n",
       "    <tr>\n",
       "      <th>1744</th>\n",
       "      <td>IM004811.jpg</td>\n",
       "      <td>1.0</td>\n",
       "      <td>0.0</td>\n",
       "      <td>1</td>\n",
       "    </tr>\n",
       "    <tr>\n",
       "      <th>1745</th>\n",
       "      <td>IM004812.jpg</td>\n",
       "      <td>2.0</td>\n",
       "      <td>0.0</td>\n",
       "      <td>1</td>\n",
       "    </tr>\n",
       "    <tr>\n",
       "      <th>1746</th>\n",
       "      <td>IM004831.jpg</td>\n",
       "      <td>0.0</td>\n",
       "      <td>0.0</td>\n",
       "      <td>1</td>\n",
       "    </tr>\n",
       "    <tr>\n",
       "      <th>1747</th>\n",
       "      <td>IM004832.jpg</td>\n",
       "      <td>0.0</td>\n",
       "      <td>0.0</td>\n",
       "      <td>1</td>\n",
       "    </tr>\n",
       "  </tbody>\n",
       "</table>\n",
       "<p>1748 rows × 4 columns</p>\n",
       "</div>"
      ],
      "text/plain": [
       "                        image_id  adjudicated_dr_grade  adjudicated_dme  \\\n",
       "0     20051020_43808_0100_PP.png                   0.0              0.0   \n",
       "1     20051020_43832_0100_PP.png                   1.0              0.0   \n",
       "2     20051020_43882_0100_PP.png                   1.0              0.0   \n",
       "3     20051020_43906_0100_PP.png                   2.0              1.0   \n",
       "4     20051020_44261_0100_PP.png                   0.0              0.0   \n",
       "...                          ...                   ...              ...   \n",
       "1743                IM004806.jpg                   0.0              0.0   \n",
       "1744                IM004811.jpg                   1.0              0.0   \n",
       "1745                IM004812.jpg                   2.0              0.0   \n",
       "1746                IM004831.jpg                   0.0              0.0   \n",
       "1747                IM004832.jpg                   0.0              0.0   \n",
       "\n",
       "      adjudicated_gradable  \n",
       "0                        1  \n",
       "1                        1  \n",
       "2                        1  \n",
       "3                        1  \n",
       "4                        1  \n",
       "...                    ...  \n",
       "1743                     1  \n",
       "1744                     1  \n",
       "1745                     1  \n",
       "1746                     1  \n",
       "1747                     1  \n",
       "\n",
       "[1748 rows x 4 columns]"
      ]
     },
     "execution_count": 3,
     "metadata": {},
     "output_type": "execute_result"
    }
   ],
   "source": [
    "data = pd.read_csv(\"Messidor-2/dounload-main/messidor_data.csv\")\n",
    "data"
   ]
  },
  {
   "cell_type": "code",
   "execution_count": 5,
   "metadata": {
    "scrolled": true
   },
   "outputs": [
    {
     "data": {
      "text/plain": [
       "'image_id'"
      ]
     },
     "execution_count": 5,
     "metadata": {},
     "output_type": "execute_result"
    }
   ],
   "source": [
    "data.columns[0]"
   ]
  },
  {
   "cell_type": "code",
   "execution_count": 1,
   "metadata": {},
   "outputs": [
    {
     "name": "stdout",
     "output_type": "stream",
     "text": [
      "[1, 2]\n"
     ]
    }
   ],
   "source": [
    "a =[1]\n",
    "b = [2]\n",
    "c = []\n",
    "print(a+b+c)"
   ]
  },
  {
   "cell_type": "markdown",
   "metadata": {},
   "source": [
    "## Dataset 처리 관련 변수 정의"
   ]
  },
  {
   "cell_type": "code",
   "execution_count": 151,
   "metadata": {},
   "outputs": [],
   "source": [
    "recode = {\n",
    "    \"Normal\" : 0,\n",
    "    \"diabetic_retinopathy\":1,\n",
    "    \"glaucomatous\":2,\n",
    "    \"cataract\":3,\n",
    "    \"retina_disease\":4,\n",
    "    \"Hollenhorst_Emboli\":5,\n",
    "    \"Branch_Retinal_Artery_Occlusion\":6,\n",
    "    \"Cilio-Retinal_Artery_Occlusion\":7,\n",
    "    \"Branch_Retinal_Vein_Occlusion\":8,\n",
    "    \"Central_Retinal_Vein_Occlusion\":9,\n",
    "    \"Hemi-Central_Retinal_Vein_Occlusion\":10,\n",
    "    \"Background_Diabetic_Retinopathy\":11,\n",
    "    \"Proliferative_Diabetic_Retinopathy\":12,\n",
    "    \"Arteriosclerotic_Retinopathy\":13,\n",
    "    \"Hyperensive_Retinopathy\":14,\n",
    "    \"Coats\":15,\n",
    "    \"Macroaneurism\":16,\n",
    "    \"Choroidal_Neovascularization\":17,\n",
    "    \"Diabetic_Macular_Edema\" : 18\n",
    "}"
   ]
  },
  {
   "cell_type": "code",
   "execution_count": 95,
   "metadata": {},
   "outputs": [],
   "source": [
    "dr = \"Train/diabetic_retinopathy\"\n",
    "g = \"Train/glaucomatous\"\n",
    "n = \"Train/Normal\"\n",
    "c = \"Train/cataract\"\n",
    "r = \"Train/retina_disease\"\n",
    "dme = \"Train/Diabetic_Macular_Edema\""
   ]
  },
  {
   "cell_type": "markdown",
   "metadata": {},
   "source": [
    "## Dataset 처리 관련 폴더 생성"
   ]
  },
  {
   "cell_type": "code",
   "execution_count": 96,
   "metadata": {},
   "outputs": [],
   "source": [
    "try:\n",
    "    os.makedirs(os.path.join(\"Train\"))\n",
    "except:\n",
    "    pass\n",
    "direct(\"diabetic_retinopathy\")\n",
    "direct(\"glaucomatous\")\n",
    "direct(\"Normal\")\n",
    "direct(\"cataract\")\n",
    "direct(\"retina_disease\")\n",
    "direct(\"Hollenhorst_Emboli\")\n",
    "direct(\"Branch_Retinal_Artery_Occlusion\")\n",
    "direct(\"Cilio-Retinal_Artery_Occlusion\")\n",
    "direct(\"Branch_Retinal_Vein_Occlusion\")\n",
    "direct(\"Central_Retinal_Vein_Occlusion\")\n",
    "direct(\"Hemi-Central_Retinal_Vein_Occlusion\")\n",
    "direct(\"Background_Diabetic_Retinopathy\")\n",
    "direct(\"Proliferative_Diabetic_Retinopathy\")\n",
    "direct(\"Arteriosclerotic_Retinopathy\")\n",
    "direct(\"Hyperensive_Retinopathy\")\n",
    "direct(\"Coats\")\n",
    "direct(\"Macroaneurism\")\n",
    "direct(\"Choroidal_Neovascularization\")\n",
    "direct(\"Diabetic_Macular_Edema\")"
   ]
  },
  {
   "cell_type": "markdown",
   "metadata": {},
   "source": [
    "## 전체 데이터셋 관련 tsv파일"
   ]
  },
  {
   "cell_type": "code",
   "execution_count": 97,
   "metadata": {},
   "outputs": [],
   "source": [
    "f = open('Train/Train.tsv','w')\n",
    "fieldnames = ['Filename', 'number', 'desease']\n",
    "wr = csv.writer(f, fieldnames, delimiter = \"\\t\")"
   ]
  },
  {
   "cell_type": "markdown",
   "metadata": {},
   "source": [
    "## STARE Dataset dounload & open"
   ]
  },
  {
   "cell_type": "code",
   "execution_count": 98,
   "metadata": {},
   "outputs": [],
   "source": [
    "def STARE(http, saving_name, fordername):\n",
    "    dounloadUrl(http, saving_name)\n",
    "    openzip(saving_name, fordername)\n",
    "    dounloadUrl(\"http://cecas.clemson.edu/~ahoover/stare/diagnoses/all-mg-codes.txt\",'STARE/info.txt')\n",
    "    dounloadUrl(\"http://cecas.clemson.edu/~ahoover/stare/diagnoses/diagnoses.html\",'STARE/diagnoses.html')\n",
    "    STARE_combi(fordername+'/*')"
   ]
  },
  {
   "cell_type": "markdown",
   "metadata": {},
   "source": [
    "## csfau Dataset dounload & open"
   ]
  },
  {
   "cell_type": "code",
   "execution_count": 99,
   "metadata": {},
   "outputs": [],
   "source": [
    "def csfau(http, saving_name, fordername):\n",
    "    dounloadUrl(http, saving_name)\n",
    "    openzip(saving_name, fordername)\n",
    "    dounloadUrl(\"https://www5.cs.fau.de/fileadmin/research/datasets/fundus-images/allQuality.zip\", 'csfau/test.zip')\n",
    "    openzip('csfau/test.zip','test')\n",
    "    csfau_comb(fordername+'/image/*')\n",
    "    csfau_t_comb(fordername+'/test/*')"
   ]
  },
  {
   "cell_type": "markdown",
   "metadata": {},
   "source": [
    "## yiweichen04 Dataset dounload & open"
   ]
  },
  {
   "cell_type": "code",
   "execution_count": 100,
   "metadata": {},
   "outputs": [],
   "source": [
    "def yiweichen04(http, saving_name, fordername):\n",
    "    dounloadUrl(http, saving_name)\n",
    "    openzip(saving_name, fordername)\n",
    "    Yi_comb(fordername+'/retina_dataset-master/dataset/1_normal/*')\n",
    "    Yi_comb(fordername+'/retina_dataset-master/dataset/2_cataract/*')\n",
    "    Yi_comb(fordername+'/retina_dataset-master/dataset/2_glaucoma/*')\n",
    "    Yi_comb(fordername+'/retina_dataset-master/dataset/3_retina_disease/*')"
   ]
  },
  {
   "cell_type": "markdown",
   "metadata": {},
   "source": [
    "## ACRIMA Dataset dounload & open"
   ]
  },
  {
   "cell_type": "code",
   "execution_count": 101,
   "metadata": {},
   "outputs": [],
   "source": [
    "def ACRIMA(http, saving_name, fordername):\n",
    "    dounloadUrl(http, saving_name)\n",
    "    openzip(saving_name, fordername)\n",
    "    db_comb(fordername+'/Database/Images/*')"
   ]
  },
  {
   "cell_type": "markdown",
   "metadata": {},
   "source": [
    "## Messidor-2 Dataset dounload & open"
   ]
  },
  {
   "cell_type": "code",
   "execution_count": 102,
   "metadata": {},
   "outputs": [],
   "source": [
    "def Messidor(http, saving_name, fordername):\n",
    "    https = http[:len(http)-1]\n",
    "    savename = saving_name[:len(saving_name)-1]\n",
    "    \n",
    "    dounloadUrl(https+'1', savename+'1')\n",
    "    dounloadUrl(https+'2', savename+'2')\n",
    "    dounloadUrl(https+'3', savename+'3')\n",
    "    dounloadUrl(https+'4', savename+'4')\n",
    "    dounloadUrl('https://codeload.github.com/Yeo-Jun-Choi/dounload/zip/main','Messidor-2/messidor_data.zip')\n",
    "    openzip(saving_name, fordername, divide=True)\n",
    "    openzip('Messidor-2/dounload-main.zip','Messidor-2')\n",
    "    messi_combi(fordername+'/IMAGES/*')"
   ]
  },
  {
   "cell_type": "code",
   "execution_count": 103,
   "metadata": {},
   "outputs": [],
   "source": [
    "def main():\n",
    "    STARE('http://cecas.clemson.edu/~ahoover/stare/images/all-images.zip', 'STARE_Project.zip', 'STARE')\n",
    "    csfau('https://www5.cs.fau.de/fileadmin/research/datasets/fundus-images/all.zip', 'csfau.zip','csfau')\n",
    "    yiweichen04('https://github.com/yiweichen04/retina_dataset/archive/master.zip','yiweichen04.zip','Yiweichen04')\n",
    "    ACRIMA('https://ndownloader.figshare.com/files/14137700','database.zip','database')\n",
    "    Messidor(\"https://www.ceos-systems.com/file-sharing/IMAGES.zip.001\",'Messidor-2.zip.001','Messidor-2')\n",
    "    "
   ]
  },
  {
   "cell_type": "code",
   "execution_count": 104,
   "metadata": {
    "scrolled": true
   },
   "outputs": [],
   "source": [
    "#main()\n",
    "f.close()"
   ]
  },
  {
   "cell_type": "markdown",
   "metadata": {},
   "source": [
    "## Dataset 설명하는 html파일 작성"
   ]
  },
  {
   "cell_type": "code",
   "execution_count": 192,
   "metadata": {
    "scrolled": true
   },
   "outputs": [],
   "source": [
    "df = pd.read_csv('Train/Train.tsv', sep='\\t')\n",
    "df = pd.DataFrame(df['Background_Diabetic_Retinopathy'].value_counts())\n",
    "df_sum = df['Background_Diabetic_Retinopathy'].sum()\n",
    "html = df.to_html(justify='center')\n",
    "html = '<h1></h1>\\n<h1>Dataset 분류 결과(개수)</h1>'+html\n",
    "html = html.replace('</tbody>','<tr>\\n<th>The number of data</th>\\n<td>{}</td>\\n</tr>\\n</tbody>'.format(df_sum))"
   ]
  },
  {
   "cell_type": "code",
   "execution_count": 193,
   "metadata": {},
   "outputs": [],
   "source": [
    "recode_dic = pd.DataFrame(recode, index=[0])\n",
    "df1 = recode_dic.transpose()\n",
    "df1 = df1.to_html(justify = 'center')\n",
    "df1\n",
    "df1 = '<h1>Dataset 분류 병명</h1>\\n'+df1\n",
    "df1 = df1.replace(\"<th>0</th>\",\"<th>Disease Number</th>\")"
   ]
  },
  {
   "cell_type": "code",
   "execution_count": 194,
   "metadata": {},
   "outputs": [],
   "source": [
    "with open('Train/Traininfo.html', 'w') as Traininfo:\n",
    "    Traininfo.write(df1)\n",
    "    Traininfo.write(html)"
   ]
  },
  {
   "cell_type": "code",
   "execution_count": null,
   "metadata": {},
   "outputs": [],
   "source": [
    "import os\n",
    "import glob\n",
    "def findDataForder(mainpath, forderlist):\n",
    "    new_forderlist = list(filter(os.path.isdir, glob.glob(mainpath)))\n",
    "    flist = []\n",
    "    for forder in new_forderlist:\n",
    "        flist += findDataForder(forder+'/*', new_forderlist)\n",
    "    return new_forderlist+flist\n",
    "result = []"
   ]
  },
  {
   "cell_type": "code",
   "execution_count": 31,
   "metadata": {},
   "outputs": [
    {
     "data": {
      "text/plain": [
       "['C:/Users/YeoJunChoi/Desktop/github/compitition\\\\pretest',\n",
       " 'C:/Users/YeoJunChoi/Desktop/github/compitition\\\\인공지능경진대회참고']"
      ]
     },
     "execution_count": 31,
     "metadata": {},
     "output_type": "execute_result"
    }
   ],
   "source": [
    "list(filter(os.path.isdir, glob.glob('C:/Users/YeoJunChoi/Desktop/github/compitition/*')))"
   ]
  },
  {
   "cell_type": "code",
   "execution_count": 10,
   "metadata": {},
   "outputs": [
    {
     "data": {
      "text/plain": [
       "9"
      ]
     },
     "execution_count": 10,
     "metadata": {},
     "output_type": "execute_result"
    }
   ],
   "source": [
    "len(findDataForder('C:/Users/YeoJunChoi/Desktop/github/compitition/*',result))"
   ]
  },
  {
   "cell_type": "code",
   "execution_count": 38,
   "metadata": {},
   "outputs": [
    {
     "name": "stdout",
     "output_type": "stream",
     "text": [
      "['STARE', 'http://cecas.clemson.edu/~ahoover/stare/images/all-images.zip', 'STARE_Project.zip']\n",
      "['STARE', 'http://cecas.clemson.edu/~ahoover/stare/diagnoses/all-mg-codes.txt', 'STARE/info.txt']\n"
     ]
    }
   ],
   "source": [
    "f = open('UrlList.csv', 'r', encoding='utf-8')\n",
    "rdr = csv.reader(f)\n",
    "obj = []\n",
    "for line in rdr:\n",
    "    print(line)\n"
   ]
  },
  {
   "cell_type": "code",
   "execution_count": 37,
   "metadata": {},
   "outputs": [],
   "source": [
    "f = open(\"UrlList.csv\",'w',encoding='utf=8', newline=\"\")\n",
    "wr = csv.writer(f)\n",
    "wr.writerow(['STARE', 'http://cecas.clemson.edu/~ahoover/stare/images/all-images.zip', 'STARE_Project.zip'])\n",
    "wr.writerow(['STARE', \"http://cecas.clemson.edu/~ahoover/stare/diagnoses/all-mg-codes.txt\", 'STARE/info.txt'])\n",
    "f.close()"
   ]
  },
  {
   "cell_type": "code",
   "execution_count": 43,
   "metadata": {},
   "outputs": [
    {
     "data": {
      "text/plain": [
       "'http://cecas.clemson.edu/~ahoover/stare/diagnoses/all-mg-codes.txt'"
      ]
     },
     "execution_count": 43,
     "metadata": {},
     "output_type": "execute_result"
    }
   ],
   "source": [
    "line[1]"
   ]
  },
  {
   "cell_type": "code",
   "execution_count": null,
   "metadata": {},
   "outputs": [],
   "source": []
  }
 ],
 "metadata": {
  "kernelspec": {
   "display_name": "Python 3",
   "language": "python",
   "name": "python3"
  },
  "language_info": {
   "codemirror_mode": {
    "name": "ipython",
    "version": 3
   },
   "file_extension": ".py",
   "mimetype": "text/x-python",
   "name": "python",
   "nbconvert_exporter": "python",
   "pygments_lexer": "ipython3",
   "version": "3.7.6"
  }
 },
 "nbformat": 4,
 "nbformat_minor": 4
}
